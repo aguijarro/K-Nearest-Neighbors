{
 "cells": [
  {
   "cell_type": "code",
   "execution_count": 1,
   "metadata": {
    "collapsed": false
   },
   "outputs": [
    {
     "name": "stderr",
     "output_type": "stream",
     "text": [
      "//anaconda/envs/envpy3/lib/python3.5/site-packages/sklearn/cross_validation.py:44: DeprecationWarning: This module was deprecated in version 0.18 in favor of the model_selection module into which all the refactored classes and functions are moved. Also note that the interface of the new CV iterators are different from that of this module. This module will be removed in 0.20.\n",
      "  \"This module will be removed in 0.20.\", DeprecationWarning)\n"
     ]
    }
   ],
   "source": [
    "#imports\n",
    "import numpy as np\n",
    "import pandas as pd\n",
    "import matplotlib.pyplot as plt\n",
    "from sklearn.neighbors import KNeighborsClassifier\n",
    "import seaborn as sns\n",
    "from sklearn.cross_validation import train_test_split,KFold,cross_val_score\n",
    "from sklearn.neighbors import KNeighborsClassifier\n",
    "from sklearn.metrics import accuracy_score\n",
    "%matplotlib inline"
   ]
  },
  {
   "cell_type": "code",
   "execution_count": 2,
   "metadata": {
    "collapsed": true
   },
   "outputs": [],
   "source": [
    "#loading dataset\n",
    "df = pd.read_csv('Data/adult.data.txt',names = ['age','workclass','fnlwgt','education','education.num',\n",
    "                                               'marital.status','occupation','relationship','race','sex',\n",
    "                                               'capital.gain','capital.loss','hours.per.week','native.country','income'])"
   ]
  },
  {
   "cell_type": "code",
   "execution_count": 3,
   "metadata": {
    "collapsed": false
   },
   "outputs": [
    {
     "data": {
      "text/html": [
       "<div>\n",
       "<table border=\"1\" class=\"dataframe\">\n",
       "  <thead>\n",
       "    <tr style=\"text-align: right;\">\n",
       "      <th></th>\n",
       "      <th>age</th>\n",
       "      <th>workclass</th>\n",
       "      <th>fnlwgt</th>\n",
       "      <th>education</th>\n",
       "      <th>education.num</th>\n",
       "      <th>marital.status</th>\n",
       "      <th>occupation</th>\n",
       "      <th>relationship</th>\n",
       "      <th>race</th>\n",
       "      <th>sex</th>\n",
       "      <th>capital.gain</th>\n",
       "      <th>capital.loss</th>\n",
       "      <th>hours.per.week</th>\n",
       "      <th>native.country</th>\n",
       "      <th>income</th>\n",
       "    </tr>\n",
       "  </thead>\n",
       "  <tbody>\n",
       "    <tr>\n",
       "      <th>0</th>\n",
       "      <td>39</td>\n",
       "      <td>State-gov</td>\n",
       "      <td>77516</td>\n",
       "      <td>Bachelors</td>\n",
       "      <td>13</td>\n",
       "      <td>Never-married</td>\n",
       "      <td>Adm-clerical</td>\n",
       "      <td>Not-in-family</td>\n",
       "      <td>White</td>\n",
       "      <td>Male</td>\n",
       "      <td>2174</td>\n",
       "      <td>0</td>\n",
       "      <td>40</td>\n",
       "      <td>United-States</td>\n",
       "      <td>&lt;=50K</td>\n",
       "    </tr>\n",
       "    <tr>\n",
       "      <th>1</th>\n",
       "      <td>50</td>\n",
       "      <td>Self-emp-not-inc</td>\n",
       "      <td>83311</td>\n",
       "      <td>Bachelors</td>\n",
       "      <td>13</td>\n",
       "      <td>Married-civ-spouse</td>\n",
       "      <td>Exec-managerial</td>\n",
       "      <td>Husband</td>\n",
       "      <td>White</td>\n",
       "      <td>Male</td>\n",
       "      <td>0</td>\n",
       "      <td>0</td>\n",
       "      <td>13</td>\n",
       "      <td>United-States</td>\n",
       "      <td>&lt;=50K</td>\n",
       "    </tr>\n",
       "    <tr>\n",
       "      <th>2</th>\n",
       "      <td>38</td>\n",
       "      <td>Private</td>\n",
       "      <td>215646</td>\n",
       "      <td>HS-grad</td>\n",
       "      <td>9</td>\n",
       "      <td>Divorced</td>\n",
       "      <td>Handlers-cleaners</td>\n",
       "      <td>Not-in-family</td>\n",
       "      <td>White</td>\n",
       "      <td>Male</td>\n",
       "      <td>0</td>\n",
       "      <td>0</td>\n",
       "      <td>40</td>\n",
       "      <td>United-States</td>\n",
       "      <td>&lt;=50K</td>\n",
       "    </tr>\n",
       "    <tr>\n",
       "      <th>3</th>\n",
       "      <td>53</td>\n",
       "      <td>Private</td>\n",
       "      <td>234721</td>\n",
       "      <td>11th</td>\n",
       "      <td>7</td>\n",
       "      <td>Married-civ-spouse</td>\n",
       "      <td>Handlers-cleaners</td>\n",
       "      <td>Husband</td>\n",
       "      <td>Black</td>\n",
       "      <td>Male</td>\n",
       "      <td>0</td>\n",
       "      <td>0</td>\n",
       "      <td>40</td>\n",
       "      <td>United-States</td>\n",
       "      <td>&lt;=50K</td>\n",
       "    </tr>\n",
       "    <tr>\n",
       "      <th>4</th>\n",
       "      <td>28</td>\n",
       "      <td>Private</td>\n",
       "      <td>338409</td>\n",
       "      <td>Bachelors</td>\n",
       "      <td>13</td>\n",
       "      <td>Married-civ-spouse</td>\n",
       "      <td>Prof-specialty</td>\n",
       "      <td>Wife</td>\n",
       "      <td>Black</td>\n",
       "      <td>Female</td>\n",
       "      <td>0</td>\n",
       "      <td>0</td>\n",
       "      <td>40</td>\n",
       "      <td>Cuba</td>\n",
       "      <td>&lt;=50K</td>\n",
       "    </tr>\n",
       "  </tbody>\n",
       "</table>\n",
       "</div>"
      ],
      "text/plain": [
       "   age          workclass  fnlwgt   education  education.num  \\\n",
       "0   39          State-gov   77516   Bachelors             13   \n",
       "1   50   Self-emp-not-inc   83311   Bachelors             13   \n",
       "2   38            Private  215646     HS-grad              9   \n",
       "3   53            Private  234721        11th              7   \n",
       "4   28            Private  338409   Bachelors             13   \n",
       "\n",
       "        marital.status          occupation    relationship    race      sex  \\\n",
       "0        Never-married        Adm-clerical   Not-in-family   White     Male   \n",
       "1   Married-civ-spouse     Exec-managerial         Husband   White     Male   \n",
       "2             Divorced   Handlers-cleaners   Not-in-family   White     Male   \n",
       "3   Married-civ-spouse   Handlers-cleaners         Husband   Black     Male   \n",
       "4   Married-civ-spouse      Prof-specialty            Wife   Black   Female   \n",
       "\n",
       "   capital.gain  capital.loss  hours.per.week  native.country  income  \n",
       "0          2174             0              40   United-States   <=50K  \n",
       "1             0             0              13   United-States   <=50K  \n",
       "2             0             0              40   United-States   <=50K  \n",
       "3             0             0              40   United-States   <=50K  \n",
       "4             0             0              40            Cuba   <=50K  "
      ]
     },
     "execution_count": 3,
     "metadata": {},
     "output_type": "execute_result"
    }
   ],
   "source": [
    "df.head()"
   ]
  },
  {
   "cell_type": "code",
   "execution_count": 4,
   "metadata": {
    "collapsed": false
   },
   "outputs": [
    {
     "name": "stdout",
     "output_type": "stream",
     "text": [
      "Number of features : 15\n",
      "Number of sample : 32561\n"
     ]
    }
   ],
   "source": [
    "#number of features\n",
    "print (\"Number of features : {}\".format(len(df.columns.values)))\n",
    "print (\"Number of sample : {}\".format(df.shape[0]))"
   ]
  },
  {
   "cell_type": "markdown",
   "metadata": {},
   "source": [
    "Out of these 15 features 'Salary' is the target feature and rest all are covariates."
   ]
  },
  {
   "cell_type": "code",
   "execution_count": 5,
   "metadata": {
    "collapsed": false
   },
   "outputs": [
    {
     "name": "stdout",
     "output_type": "stream",
     "text": [
      "<class 'pandas.core.frame.DataFrame'>\n",
      "RangeIndex: 32561 entries, 0 to 32560\n",
      "Data columns (total 15 columns):\n",
      "age               32561 non-null int64\n",
      "workclass         32561 non-null object\n",
      "fnlwgt            32561 non-null int64\n",
      "education         32561 non-null object\n",
      "education.num     32561 non-null int64\n",
      "marital.status    32561 non-null object\n",
      "occupation        32561 non-null object\n",
      "relationship      32561 non-null object\n",
      "race              32561 non-null object\n",
      "sex               32561 non-null object\n",
      "capital.gain      32561 non-null int64\n",
      "capital.loss      32561 non-null int64\n",
      "hours.per.week    32561 non-null int64\n",
      "native.country    32561 non-null object\n",
      "income            32561 non-null object\n",
      "dtypes: int64(6), object(9)\n",
      "memory usage: 3.7+ MB\n"
     ]
    }
   ],
   "source": [
    "#let see if any cloumn has missing values\n",
    "df.info()"
   ]
  },
  {
   "cell_type": "markdown",
   "metadata": {},
   "source": [
    "It is clear that none on the column has any Nan values. Since number of samples in each column = total number of samples = 32561\n",
    "\n",
    "Let's classify features into numerical and categorical:\n",
    "\n",
    "Numerical features:\n",
    "\n",
    "- age\n",
    "- fnlwgt\n",
    "- education-num\n",
    "- capital-gain\n",
    "- capital-loss\n",
    "- hours-per-week\n",
    "\n",
    "Categorical features:\n",
    "\n",
    "- workclass\n",
    "- education\n",
    "- marital-status\n",
    "- occupation\n",
    "- relationship\n",
    "- race\n",
    "- sex\n",
    "- native-country\n",
    "- salary\n",
    "\n",
    "\n",
    "\n"
   ]
  },
  {
   "cell_type": "markdown",
   "metadata": {},
   "source": [
    "Let's see the classes of the categorical variables"
   ]
  },
  {
   "cell_type": "code",
   "execution_count": 6,
   "metadata": {
    "collapsed": false
   },
   "outputs": [
    {
     "name": "stdout",
     "output_type": "stream",
     "text": [
      "workclass\n",
      " {' Federal-gov', ' Without-pay', ' State-gov', ' ?', ' Self-emp-inc', ' Self-emp-not-inc', ' Local-gov', ' Private', ' Never-worked'}\n",
      "\n",
      "education\n",
      " {' HS-grad', ' Masters', ' 11th', ' 7th-8th', ' 1st-4th', ' 10th', ' Preschool', ' 5th-6th', ' Prof-school', ' Assoc-acdm', ' 12th', ' Doctorate', ' Some-college', ' 9th', ' Assoc-voc', ' Bachelors'}\n",
      "\n",
      "marital.status\n",
      " {' Married-civ-spouse', ' Widowed', ' Never-married', ' Separated', ' Divorced', ' Married-spouse-absent', ' Married-AF-spouse'}\n",
      "\n",
      "occupation\n",
      " {' Other-service', ' Prof-specialty', ' Adm-clerical', ' Handlers-cleaners', ' ?', ' Craft-repair', ' Farming-fishing', ' Armed-Forces', ' Machine-op-inspct', ' Transport-moving', ' Sales', ' Tech-support', ' Protective-serv', ' Priv-house-serv', ' Exec-managerial'}\n",
      "\n",
      "race\n",
      " {' Black', ' Other', ' Asian-Pac-Islander', ' Amer-Indian-Eskimo', ' White'}\n",
      "\n",
      "relationship {' Husband', ' Unmarried', ' Own-child', ' Not-in-family', ' Wife', ' Other-relative'}\n",
      "\n",
      "sex {' Female', ' Male'}\n",
      "\n",
      "native.country {' Ecuador', ' Ireland', ' Japan', ' Hungary', ' France', ' South', ' Greece', ' Trinadad&Tobago', ' Taiwan', ' Haiti', ' Puerto-Rico', ' ?', ' Guatemala', ' Dominican-Republic', ' Peru', ' Yugoslavia', ' Columbia', ' England', ' Thailand', ' Jamaica', ' Honduras', ' Canada', ' Cambodia', ' United-States', ' Italy', ' Poland', ' El-Salvador', ' Germany', ' China', ' Holand-Netherlands', ' Laos', ' Portugal', ' Cuba', ' Mexico', ' Vietnam', ' Outlying-US(Guam-USVI-etc)', ' Scotland', ' Nicaragua', ' Iran', ' India', ' Hong', ' Philippines'}\n",
      "\n",
      "salary {' <=50K', ' >50K'}\n"
     ]
    }
   ],
   "source": [
    "print('workclass\\n',set(df.workclass))\n",
    "print('\\neducation\\n',set(df.education))\n",
    "print('\\nmarital.status\\n',set(df['marital.status']))\n",
    "print('\\noccupation\\n',set(df.occupation))\n",
    "print('\\nrace\\n',set(df.race))\n",
    "print('\\nrelationship',set(df.relationship))\n",
    "print('\\nsex',set(df.sex))\n",
    "print('\\nnative.country',set(df['native.country']))\n",
    "print('\\nsalary',set(df.income))"
   ]
  },
  {
   "cell_type": "markdown",
   "metadata": {},
   "source": [
    "As we can see that in workclass and occupation we have unknown class '?'.Now let's represent categorical data in terms of numerical dummy variables"
   ]
  },
  {
   "cell_type": "code",
   "execution_count": 7,
   "metadata": {
    "collapsed": false
   },
   "outputs": [
    {
     "data": {
      "text/html": [
       "<div>\n",
       "<table border=\"1\" class=\"dataframe\">\n",
       "  <thead>\n",
       "    <tr style=\"text-align: right;\">\n",
       "      <th></th>\n",
       "      <th>age</th>\n",
       "      <th>workclass</th>\n",
       "      <th>fnlwgt</th>\n",
       "      <th>education</th>\n",
       "      <th>education.num</th>\n",
       "      <th>marital.status</th>\n",
       "      <th>occupation</th>\n",
       "      <th>relationship</th>\n",
       "      <th>race</th>\n",
       "      <th>sex</th>\n",
       "      <th>capital.gain</th>\n",
       "      <th>capital.loss</th>\n",
       "      <th>hours.per.week</th>\n",
       "      <th>native.country</th>\n",
       "      <th>income</th>\n",
       "    </tr>\n",
       "  </thead>\n",
       "  <tbody>\n",
       "    <tr>\n",
       "      <th>0</th>\n",
       "      <td>39</td>\n",
       "      <td>8</td>\n",
       "      <td>77516</td>\n",
       "      <td>8</td>\n",
       "      <td>13</td>\n",
       "      <td>4</td>\n",
       "      <td>11</td>\n",
       "      <td>3</td>\n",
       "      <td>1</td>\n",
       "      <td>0</td>\n",
       "      <td>2174</td>\n",
       "      <td>0</td>\n",
       "      <td>40</td>\n",
       "      <td>24</td>\n",
       "      <td>0</td>\n",
       "    </tr>\n",
       "    <tr>\n",
       "      <th>1</th>\n",
       "      <td>50</td>\n",
       "      <td>3</td>\n",
       "      <td>83311</td>\n",
       "      <td>8</td>\n",
       "      <td>13</td>\n",
       "      <td>1</td>\n",
       "      <td>9</td>\n",
       "      <td>1</td>\n",
       "      <td>1</td>\n",
       "      <td>0</td>\n",
       "      <td>0</td>\n",
       "      <td>0</td>\n",
       "      <td>13</td>\n",
       "      <td>24</td>\n",
       "      <td>0</td>\n",
       "    </tr>\n",
       "    <tr>\n",
       "      <th>2</th>\n",
       "      <td>38</td>\n",
       "      <td>5</td>\n",
       "      <td>215646</td>\n",
       "      <td>12</td>\n",
       "      <td>9</td>\n",
       "      <td>0</td>\n",
       "      <td>1</td>\n",
       "      <td>3</td>\n",
       "      <td>1</td>\n",
       "      <td>0</td>\n",
       "      <td>0</td>\n",
       "      <td>0</td>\n",
       "      <td>40</td>\n",
       "      <td>24</td>\n",
       "      <td>0</td>\n",
       "    </tr>\n",
       "    <tr>\n",
       "      <th>3</th>\n",
       "      <td>53</td>\n",
       "      <td>5</td>\n",
       "      <td>234721</td>\n",
       "      <td>5</td>\n",
       "      <td>7</td>\n",
       "      <td>1</td>\n",
       "      <td>1</td>\n",
       "      <td>1</td>\n",
       "      <td>3</td>\n",
       "      <td>0</td>\n",
       "      <td>0</td>\n",
       "      <td>0</td>\n",
       "      <td>40</td>\n",
       "      <td>24</td>\n",
       "      <td>0</td>\n",
       "    </tr>\n",
       "    <tr>\n",
       "      <th>4</th>\n",
       "      <td>28</td>\n",
       "      <td>5</td>\n",
       "      <td>338409</td>\n",
       "      <td>8</td>\n",
       "      <td>13</td>\n",
       "      <td>1</td>\n",
       "      <td>0</td>\n",
       "      <td>5</td>\n",
       "      <td>3</td>\n",
       "      <td>0</td>\n",
       "      <td>0</td>\n",
       "      <td>0</td>\n",
       "      <td>40</td>\n",
       "      <td>5</td>\n",
       "      <td>0</td>\n",
       "    </tr>\n",
       "  </tbody>\n",
       "</table>\n",
       "</div>"
      ],
      "text/plain": [
       "   age  workclass  fnlwgt  education  education.num  marital.status  \\\n",
       "0   39          8   77516          8             13               4   \n",
       "1   50          3   83311          8             13               1   \n",
       "2   38          5  215646         12              9               0   \n",
       "3   53          5  234721          5              7               1   \n",
       "4   28          5  338409          8             13               1   \n",
       "\n",
       "   occupation  relationship  race  sex  capital.gain  capital.loss  \\\n",
       "0          11             3     1    0          2174             0   \n",
       "1           9             1     1    0             0             0   \n",
       "2           1             3     1    0             0             0   \n",
       "3           1             1     3    0             0             0   \n",
       "4           0             5     3    0             0             0   \n",
       "\n",
       "   hours.per.week  native.country  income  \n",
       "0              40              24       0  \n",
       "1              13              24       0  \n",
       "2              40              24       0  \n",
       "3              40              24       0  \n",
       "4              40               5       0  "
      ]
     },
     "execution_count": 7,
     "metadata": {},
     "output_type": "execute_result"
    }
   ],
   "source": [
    "df.workclass = df.workclass.map({ ' Self-emp-inc':0, ' Never-worked':1, ' Local-gov':2, ' Self-emp-not-inc':3, ' ?':4, ' Private':5, ' Federal-gov':6, ' Without-pay':7, ' State-gov':8})\n",
    "\n",
    "df.income = np.where(df.income == ' >50K',1,0)\n",
    "\n",
    "df.occupation = df.occupation.map({' Prof-specialty':0, ' Handlers-cleaners':1, ' Craft-repair':2, ' Tech-support':3, ' Protective-serv':4, ' Sales':5, ' ?':6, ' Priv-house-serv':7, ' Transport-moving':8, ' Exec-managerial':9, ' Machine-op-inspct':10, ' Adm-clerical':11, ' Other-service':12, ' Armed-Forces':13, ' Farming-fishing':14})\n",
    "\n",
    "df['marital.status'] = df['marital.status'].map({' Divorced':0, ' Married-civ-spouse':1, ' Widowed':2, ' Married-spouse-absent':3, ' Never-married':4, ' Separated':5, ' Married-AF-spouse':6})\n",
    "\n",
    "df.race = df.race.map({' Other':0, ' White':1, ' Asian-Pac-Islander':2, ' Black':3, ' Amer-Indian-Eskimo':4})\n",
    "\n",
    "df.sex = np.where(df.sex == 'Male',1,0)\n",
    "\n",
    "df.relationship = df.relationship.map({' Own-child':0, ' Husband':1, ' Other-relative':2, ' Not-in-family':3, ' Unmarried':4, ' Wife':5})\n",
    "\n",
    "df['native.country'] = df['native.country'].map({' England':0, ' France':1, ' India':2, ' Italy':3, ' Portugal':4, ' Cuba':5, ' Japan':6, ' Laos':7, ' Hungary':8, ' Scotland':9, ' Holand-Netherlands':10, ' Greece':11, ' Poland':12, ' Philippines':13, ' Hong':14, ' Ecuador':15, ' Honduras':16, ' Outlying-US(Guam-USVI-etc)':17, ' Nicaragua':18, ' Jamaica':19, ' Peru':20, ' South':21, ' Columbia':22, ' Iran':23, ' United-States':24, ' Cambodia':25, ' Haiti':26, ' China':27, ' El-Salvador':28, ' Yugoslavia':29, ' Mexico':30, ' Dominican-Republic':31, ' Guatemala':32, ' Vietnam':33, ' Thailand':34, ' ?':35, ' Puerto-Rico':36, ' Ireland':37, ' Germany':38, ' Canada':39, ' Trinadad&Tobago':40, ' Taiwan':41})\n",
    "\n",
    "df.education = df.education.map({' 9th':0, ' 7th-8th':1, ' Preschool':2, ' 10th':3, ' Doctorate':4, ' 11th':5, ' Prof-school':6, ' 5th-6th':7, ' Bachelors':8, ' Assoc-acdm':9, ' 1st-4th':10, ' Masters':11, ' HS-grad':12, ' Some-college':13, ' Assoc-voc':14, ' 12th':15})\n",
    "\n",
    "df.head()\n"
   ]
  },
  {
   "cell_type": "markdown",
   "metadata": {},
   "source": [
    "### Feature engineering usinf Recursive Feature Elimination and Feature importance ranking\n",
    "\n",
    "The Recursive Feature Elimination (RFE) method is a feature selection approach. It works by recursively removing attributes and building a model on those attributes that remain. It uses the model accuracy to identify which attributes (and combination of attributes) contribute the most to predicting the target attribute."
   ]
  },
  {
   "cell_type": "code",
   "execution_count": 8,
   "metadata": {
    "collapsed": false
   },
   "outputs": [
    {
     "data": {
      "text/plain": [
       "{0, 1}"
      ]
     },
     "execution_count": 8,
     "metadata": {},
     "output_type": "execute_result"
    }
   ],
   "source": [
    "features = df.drop('income',axis=1)\n",
    "target = df.income\n",
    "set(df.income)"
   ]
  },
  {
   "cell_type": "code",
   "execution_count": 9,
   "metadata": {
    "collapsed": true
   },
   "outputs": [],
   "source": [
    "from sklearn.feature_selection import RFE\n",
    "from sklearn.linear_model import LogisticRegression"
   ]
  },
  {
   "cell_type": "code",
   "execution_count": 10,
   "metadata": {
    "collapsed": false
   },
   "outputs": [
    {
     "name": "stdout",
     "output_type": "stream",
     "text": [
      "[False False False False  True  True False  True False False False False\n",
      " False False]\n",
      "[ 5  6 11  8  1  1  3  1  2 12 10  9  4  7]\n",
      "['age' 'workclass' 'fnlwgt' 'education' 'education.num' 'marital.status'\n",
      " 'occupation' 'relationship' 'race' 'sex' 'capital.gain' 'capital.loss'\n",
      " 'hours.per.week' 'native.country']\n"
     ]
    }
   ],
   "source": [
    "#define a classifier\n",
    "model = LogisticRegression()\n",
    "\n",
    "#create RFE model to return top 3 attributes\n",
    "rfe = RFE(model,3)\n",
    "rfe = rfe.fit(features,target)\n",
    "\n",
    "#summarise the selection of attributes\n",
    "print(rfe.support_)\n",
    "print(rfe.ranking_)\n",
    "print(features.columns.values)"
   ]
  },
  {
   "cell_type": "markdown",
   "metadata": {},
   "source": [
    "So the top three features as per RFE are\n",
    "\n",
    "- educational-num\n",
    "- marital status\n",
    "- relationships\n",
    "- race\n",
    "\n",
    "Let's use Feature Importance to identify the top 3 features\n",
    "\n",
    "Methods that use ensembles of decision trees (like Random Forest or Extra Trees) can also compute the relative importance of each attribute. These importance values can be used to inform a feature selection process.\n",
    "\n",
    "This recipe shows the construction of an Extra Trees ensemble of the dataset and the display of the relative feature importance."
   ]
  },
  {
   "cell_type": "code",
   "execution_count": 11,
   "metadata": {
    "collapsed": false
   },
   "outputs": [
    {
     "name": "stdout",
     "output_type": "stream",
     "text": [
      "[ 0.15466388  0.04938532  0.1670185   0.03560499  0.08866427  0.10418752\n",
      "  0.08092988  0.07534905  0.01585646  0.          0.07829256  0.03047255\n",
      "  0.09857372  0.02100131]\n",
      "\n",
      " ['age' 'workclass' 'fnlwgt' 'education' 'education.num' 'marital.status'\n",
      " 'occupation' 'relationship' 'race' 'sex' 'capital.gain' 'capital.loss'\n",
      " 'hours.per.week' 'native.country']\n"
     ]
    }
   ],
   "source": [
    "from sklearn import metrics\n",
    "from sklearn.ensemble import ExtraTreesClassifier\n",
    "\n",
    "#define and fit a ExtraTreeClassifier to the data\n",
    "model = ExtraTreesClassifier()\n",
    "model.fit(features,target)\n",
    "\n",
    "#display the feature importance\n",
    "print(model.feature_importances_)\n",
    "print('\\n',features.columns.values)"
   ]
  },
  {
   "cell_type": "code",
   "execution_count": 12,
   "metadata": {
    "collapsed": false
   },
   "outputs": [
    {
     "data": {
      "image/png": "[encoded data removed]",
      "text/plain": [
       "<matplotlib.figure.Figure at 0x11f3276a0>"
      ]
     },
     "metadata": {},
     "output_type": "display_data"
    }
   ],
   "source": [
    "#bar plot of feature importance\n",
    "values = model.feature_importances_\n",
    "pos = np.arange(14) + 0.02\n",
    "plt.barh(pos,values,align = 'center')\n",
    "plt.title('Feature importance plot')\n",
    "plt.xlabel('feature importance ')\n",
    "plt.ylabel('features')\n",
    "plt.yticks(np.arange(14),('age', 'workclass', 'fnlwgt', 'education', 'education.num', 'marital.status','occupation' ,'relationship', 'race' ,'sex', 'capital-gain', 'capital.loss','hours.per.week', 'native.country'))\n",
    "plt.grid(True)"
   ]
  },
  {
   "cell_type": "markdown",
   "metadata": {},
   "source": [
    "So according to feature importance method, top 3 features are fnlwgt,age,hours-per-week.\n",
    "\n",
    "Let's create training and testing datasets"
   ]
  },
  {
   "cell_type": "code",
   "execution_count": 13,
   "metadata": {
    "collapsed": false
   },
   "outputs": [
    {
     "name": "stdout",
     "output_type": "stream",
     "text": [
      "Accuracy for 21 is 0.7559267903205994\n"
     ]
    },
    {
     "data": {
      "text/plain": [
       "<matplotlib.text.Text at 0x11eff1c18>"
      ]
     },
     "execution_count": 13,
     "metadata": {},
     "output_type": "execute_result"
    },
    {
     "data": {
      "image/png": "[encoded data removed]",
      "text/plain": [
       "<matplotlib.figure.Figure at 0x11f3044e0>"
      ]
     },
     "metadata": {},
     "output_type": "display_data"
    }
   ],
   "source": [
    "#updating features: combining best features from both RFE and feature importance\n",
    "features = features[['education.num','marital.status','relationship','race','age','fnlwgt']]\n",
    "\n",
    "#here we have consider best features from both RFE and feature importance results\n",
    "\n",
    "#spliting data into train and test data\n",
    "X_train,X_test,y_train,y_test = train_test_split(features,target,random_state = 12)\n",
    "\n",
    "from sklearn.neighbors import KNeighborsClassifier\n",
    "\n",
    "k_values = np.arange(1,26)\n",
    "scores = []\n",
    "\n",
    "for i in k_values:\n",
    "    clf = KNeighborsClassifier(n_neighbors=i)\n",
    "    clf.fit(X_train,y_train)\n",
    "    y_predict = clf.predict(X_test)\n",
    "    scores.append(metrics.accuracy_score(y_test,y_predict))\n",
    "\n",
    "print(\"Accuracy for {} is {}\".format(np.argmax(scores),max(scores)))\n",
    "\n",
    "plt.plot(np.arange(1,26),scores)\n",
    "plt.title('Varition of accuracy with K value,with best features from RFE and feature importance')\n",
    "plt.xlabel('K values')\n",
    "plt.ylabel('Accuracy')"
   ]
  },
  {
   "cell_type": "code",
   "execution_count": 14,
   "metadata": {
    "collapsed": false
   },
   "outputs": [
    {
     "name": "stdout",
     "output_type": "stream",
     "text": [
      "Accuracy for 15 is 0.8186954919543054\n"
     ]
    },
    {
     "data": {
      "text/plain": [
       "<matplotlib.text.Text at 0x11f4bc780>"
      ]
     },
     "execution_count": 14,
     "metadata": {},
     "output_type": "execute_result"
    },
    {
     "data": {
      "image/png": "[encoded data removed]",
      "text/plain": [
       "<matplotlib.figure.Figure at 0x11ef67b70>"
      ]
     },
     "metadata": {},
     "output_type": "display_data"
    }
   ],
   "source": [
    "#Let's update features with the results of RFE and evaluate how\n",
    "#accuracy varies\n",
    "\n",
    "features1 = features[['education.num','marital.status','relationship','race']]\n",
    "\n",
    "X_train,X_test,y_train,y_test = train_test_split(features1,target,random_state = 12)\n",
    "\n",
    "from sklearn.neighbors import KNeighborsClassifier\n",
    "\n",
    "k_values = np.arange(1,26)\n",
    "scores = []\n",
    "\n",
    "for i in k_values:\n",
    "    clf = KNeighborsClassifier(n_neighbors=i)\n",
    "    clf.fit(X_train,y_train)\n",
    "    y_predict = clf.predict(X_test)\n",
    "    scores.append(metrics.accuracy_score(y_test,y_predict))\n",
    "\n",
    "print(\"Accuracy for {} is {}\".format(np.argmax(scores),max(scores)))\n",
    "\n",
    "plt.plot(np.arange(1,26),scores)\n",
    "plt.title('Varition of accuracy with K value,with best features from RFE ')\n",
    "plt.xlabel('K values')\n",
    "plt.ylabel('Accuracy')"
   ]
  },
  {
   "cell_type": "code",
   "execution_count": 15,
   "metadata": {
    "collapsed": false
   },
   "outputs": [
    {
     "name": "stdout",
     "output_type": "stream",
     "text": [
      "Accuracy for 21 is 0.7555582852229455\n"
     ]
    },
    {
     "data": {
      "text/plain": [
       "<matplotlib.text.Text at 0x124d563c8>"
      ]
     },
     "execution_count": 15,
     "metadata": {},
     "output_type": "execute_result"
    },
    {
     "data": {
      "image/png": "[encoded data removed]",
      "text/plain": [
       "<matplotlib.figure.Figure at 0x120255ba8>"
      ]
     },
     "metadata": {},
     "output_type": "display_data"
    }
   ],
   "source": [
    "#Let's update features with the results of feature importance and evaluate how\n",
    "#accuracy varies\n",
    "\n",
    "features2 = features[['age','fnlwgt']]\n",
    "\n",
    "X_train,X_test,y_train,y_test = train_test_split(features2,target,random_state = 12)\n",
    "\n",
    "from sklearn.neighbors import KNeighborsClassifier\n",
    "\n",
    "k_values = np.arange(1,26)\n",
    "scores = []\n",
    "\n",
    "for i in k_values:\n",
    "    clf = KNeighborsClassifier(n_neighbors=i)\n",
    "    clf.fit(X_train,y_train)\n",
    "    y_predict = clf.predict(X_test)\n",
    "    scores.append(metrics.accuracy_score(y_test,y_predict))\n",
    "\n",
    "print(\"Accuracy for {} is {}\".format(np.argmax(scores),max(scores)))\n",
    "\n",
    "plt.plot(np.arange(1,26),scores)\n",
    "plt.title('Varition of accuracy with K value,with best features from feature importance')\n",
    "plt.xlabel('K values')\n",
    "plt.ylabel('Accuracy')"
   ]
  },
  {
   "cell_type": "markdown",
   "metadata": {},
   "source": [
    "What is the need of comparing all three results (ie features from both RFE and feature importance,from RFE only and from feature importance only)?\n",
    "\n",
    "In case of KNN, model works well when the input dimensions are small, as the input dimension increases the  performance of KNN decreases, because increase in dimension weakens the most important assumption on which KNN is built, which is  that closer points belongs to same class.\n",
    "\n",
    "For more info, you can refer :[K-Nearest Neighbors for Machine Learning](http://machinelearningmastery.com/k-nearest-neighbors-for-machine-learning/)"
   ]
  },
  {
   "cell_type": "code",
   "execution_count": null,
   "metadata": {
    "collapsed": true
   },
   "outputs": [],
   "source": []
  },
  {
   "cell_type": "code",
   "execution_count": null,
   "metadata": {
    "collapsed": true
   },
   "outputs": [],
   "source": []
  },
  {
   "cell_type": "code",
   "execution_count": null,
   "metadata": {
    "collapsed": true
   },
   "outputs": [],
   "source": []
  }
 ],
 "metadata": {
  "anaconda-cloud": {},
  "kernelspec": {
   "display_name": "Python [default]",
   "language": "python",
   "name": "python3"
  },
  "language_info": {
   "codemirror_mode": {
    "name": "ipython",
    "version": 3
   },
   "file_extension": ".py",
   "mimetype": "text/x-python",
   "name": "python",
   "nbconvert_exporter": "python",
   "pygments_lexer": "ipython3",
   "version": "3.5.2"
  }
 },
 "nbformat": 4,
 "nbformat_minor": 2
}
